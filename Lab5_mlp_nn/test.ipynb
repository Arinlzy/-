{
 "cells": [
  {
   "cell_type": "code",
   "execution_count": null,
   "metadata": {},
   "outputs": [],
   "source": [
    "from sklearn.neural_network import MLPClassifier\n",
    "from sklearn.preprocessing import StandardScaler\n",
    "from sklearn.model_selection import train_test_split\n",
    "from sklearn import datasets\n",
    "from pandas import DataFrame\n",
    "import numpy as np\n",
    "\n",
    "iris = datasets.load_iris()\n",
    "df = DataFrame(iris.data, columns=iris.feature_names)\n",
    "df['target'] = list(iris.target)\n",
    "X = df.iloc[:, 0:4]\n",
    "Y = df.iloc[:, 4]"
   ]
  },
  {
   "cell_type": "code",
   "execution_count": null,
   "metadata": {},
   "outputs": [],
   "source": [
    "print(df)"
   ]
  },
  {
   "cell_type": "code",
   "execution_count": null,
   "metadata": {},
   "outputs": [],
   "source": [
    "print(X)"
   ]
  },
  {
   "cell_type": "code",
   "execution_count": null,
   "metadata": {},
   "outputs": [],
   "source": [
    "print(Y[0:50])"
   ]
  },
  {
   "cell_type": "code",
   "execution_count": null,
   "metadata": {},
   "outputs": [],
   "source": [
    "print(Y[50:100])"
   ]
  },
  {
   "cell_type": "code",
   "execution_count": 84,
   "metadata": {},
   "outputs": [],
   "source": [
    "# train_indices = list(range(0, 40)) + list(range(50, 90)) + list(range(100, 140))\n",
    "# test_indices = list(range(40, 50)) + list(range(90, 100)) + list(range(140, 150))\n",
    "# \n",
    "# X_train = df.iloc[train_indices, :4].reset_index(drop=True)\n",
    "# Y_train = df.iloc[train_indices, 4].reset_index(drop=True)\n",
    "# X_test = df.iloc[test_indices, :4].reset_index(drop=True)\n",
    "# Y_test = df.iloc[test_indices, 4].reset_index(drop=True)\n",
    "\n",
    "X_train, X_test, Y_train, Y_test = train_test_split(X, Y, test_size=0.2, stratify=Y)"
   ]
  },
  {
   "cell_type": "code",
   "execution_count": 85,
   "metadata": {},
   "outputs": [
    {
     "name": "stdout",
     "output_type": "stream",
     "text": [
      "     sepal length (cm)  sepal width (cm)  petal length (cm)  petal width (cm)\n",
      "29                 4.7               3.2                1.6               0.2\n",
      "135                7.7               3.0                6.1               2.3\n",
      "127                6.1               3.0                4.9               1.8\n",
      "37                 4.9               3.6                1.4               0.1\n",
      "9                  4.9               3.1                1.5               0.1\n",
      "..                 ...               ...                ...               ...\n",
      "51                 6.4               3.2                4.5               1.5\n",
      "40                 5.0               3.5                1.3               0.3\n",
      "84                 5.4               3.0                4.5               1.5\n",
      "77                 6.7               3.0                5.0               1.7\n",
      "144                6.7               3.3                5.7               2.5\n",
      "\n",
      "[120 rows x 4 columns]\n"
     ]
    }
   ],
   "source": [
    "print(X_train)"
   ]
  },
  {
   "cell_type": "code",
   "execution_count": 86,
   "metadata": {},
   "outputs": [
    {
     "name": "stdout",
     "output_type": "stream",
     "text": [
      "29     0\n",
      "135    2\n",
      "127    2\n",
      "37     0\n",
      "9      0\n",
      "      ..\n",
      "51     1\n",
      "40     0\n",
      "84     1\n",
      "77     1\n",
      "144    2\n",
      "Name: target, Length: 120, dtype: int64\n"
     ]
    }
   ],
   "source": [
    "print(Y_train)"
   ]
  },
  {
   "cell_type": "code",
   "execution_count": null,
   "metadata": {},
   "outputs": [],
   "source": []
  }
 ],
 "metadata": {
  "kernelspec": {
   "display_name": "base",
   "language": "python",
   "name": "python3"
  },
  "language_info": {
   "codemirror_mode": {
    "name": "ipython",
    "version": 3
   },
   "file_extension": ".py",
   "mimetype": "text/x-python",
   "name": "python",
   "nbconvert_exporter": "python",
   "pygments_lexer": "ipython3",
   "version": "3.11.3"
  }
 },
 "nbformat": 4,
 "nbformat_minor": 2
}
